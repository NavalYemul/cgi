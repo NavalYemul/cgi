{
 "cells": [
  {
   "cell_type": "code",
   "execution_count": 0,
   "metadata": {
    "application/vnd.databricks.v1+cell": {
     "cellMetadata": {},
     "inputWidgets": {},
     "nuid": "6c5ab586-4660-4e86-8112-383b0509b71f",
     "showTitle": false,
     "tableResultSettingsMap": {},
     "title": ""
    }
   },
   "outputs": [],
   "source": [
    "https://docs.databricks.com/aws/en/ingestion/cloud-object-storage/auto-loader/schema#how-does-auto-loader-schema-evolution-work"
   ]
  },
  {
   "cell_type": "code",
   "execution_count": 0,
   "metadata": {
    "application/vnd.databricks.v1+cell": {
     "cellMetadata": {},
     "inputWidgets": {},
     "nuid": "b5be017a-9fb2-42a4-910d-03a6e45dfd36",
     "showTitle": false,
     "tableResultSettingsMap": {},
     "title": ""
    }
   },
   "outputs": [],
   "source": [
    "https://docs.databricks.com/aws/en/ingestion/cloud-object-storage/auto-loader/"
   ]
  },
  {
   "cell_type": "code",
   "execution_count": 0,
   "metadata": {
    "application/vnd.databricks.v1+cell": {
     "cellMetadata": {
      "byteLimit": 2048000,
      "rowLimit": 10000
     },
     "inputWidgets": {},
     "nuid": "c7657de2-2ece-414f-b2dd-f179976512ab",
     "showTitle": false,
     "tableResultSettingsMap": {},
     "title": ""
    }
   },
   "outputs": [],
   "source": [
    "input=\"s3://datamaster/stream_in/csv/\"\n",
    "table_name=\"cgi_dev.naval.autoloader\"\n",
    "schemalocation=\"s3://datamaster/metadata/naval/autoloader/schema\"\n",
    "checkpoint=\"s3://datamaster/metadata/naval/autoloader/checkpoint\""
   ]
  },
  {
   "cell_type": "code",
   "execution_count": 0,
   "metadata": {
    "application/vnd.databricks.v1+cell": {
     "cellMetadata": {
      "byteLimit": 2048000,
      "rowLimit": 10000
     },
     "inputWidgets": {},
     "nuid": "959bdf64-c610-468d-9b6e-c25eb02f7820",
     "showTitle": false,
     "tableResultSettingsMap": {},
     "title": ""
    }
   },
   "outputs": [],
   "source": [
    "\n",
    "(\n",
    "   spark\n",
    " .readStream\n",
    " .format(\"cloudFiles\")\n",
    " .option(\"cloudFiles.format\",\"csv\")\n",
    " .option(\"cloudFiles.inferColumnTypes\",\"True\")\n",
    " .option(\"cloudFiles.schemaLocation\",schemalocation)\n",
    " .load(input)\n",
    "    .writeStream\n",
    " .option(\"checkpointLocation\",checkpoint)\n",
    " #.trigger(once=True)\n",
    " .table(table_name)\n",
    " )"
   ]
  },
  {
   "cell_type": "code",
   "execution_count": 0,
   "metadata": {
    "application/vnd.databricks.v1+cell": {
     "cellMetadata": {},
     "inputWidgets": {},
     "nuid": "876993f6-e557-4a35-b997-7902f8a94498",
     "showTitle": false,
     "tableResultSettingsMap": {},
     "title": ""
    }
   },
   "outputs": [],
   "source": [
    "By default: schema evolution in Autoloader is addNewColumn"
   ]
  },
  {
   "cell_type": "code",
   "execution_count": 0,
   "metadata": {
    "application/vnd.databricks.v1+cell": {
     "cellMetadata": {
      "byteLimit": 2048000,
      "rowLimit": 10000
     },
     "inputWidgets": {},
     "nuid": "7be460f8-db12-4b53-abb1-293d3c98a01a",
     "showTitle": false,
     "tableResultSettingsMap": {},
     "title": ""
    }
   },
   "outputs": [],
   "source": [
    "\n",
    "(\n",
    "   spark\n",
    " .readStream\n",
    " .format(\"cloudFiles\")\n",
    " .option(\"cloudFiles.format\",\"csv\")\n",
    " .option(\"cloudFiles.inferColumnTypes\",\"True\")\n",
    " .option(\"cloudFiles.schemaLocation\",schemalocation)\n",
    " .load(input)\n",
    "    .writeStream\n",
    " .option(\"checkpointLocation\",checkpoint)\n",
    " #.trigger(once=True)\n",
    " .table(table_name)\n",
    " )"
   ]
  },
  {
   "cell_type": "code",
   "execution_count": 0,
   "metadata": {
    "application/vnd.databricks.v1+cell": {
     "cellMetadata": {
      "byteLimit": 2048000,
      "rowLimit": 10000
     },
     "inputWidgets": {},
     "nuid": "ef44268a-14c8-43fc-bd3b-64cddcc0d362",
     "showTitle": true,
     "tableResultSettingsMap": {},
     "title": "Final"
    }
   },
   "outputs": [],
   "source": [
    "(\n",
    "   spark\n",
    " .readStream\n",
    " .format(\"cloudFiles\")\n",
    " .option(\"cloudFiles.format\",\"csv\")\n",
    " .option(\"cloudFiles.inferColumnTypes\",\"True\")\n",
    " .option(\"cloudFiles.schemaEvolutionMode\",\"addNewColumns\")\n",
    " .option(\"cloudFiles.schemaLocation\",schemalocation)\n",
    " .load(input)\n",
    "    .writeStream\n",
    " .option(\"checkpointLocation\",checkpoint)\n",
    " #.trigger(once=True)\n",
    " .option(\"mergeSchema\",\"True\")\n",
    " .table(table_name)\n",
    " )"
   ]
  },
  {
   "cell_type": "code",
   "execution_count": 0,
   "metadata": {
    "application/vnd.databricks.v1+cell": {
     "cellMetadata": {
      "byteLimit": 2048000,
      "implicitDf": true,
      "rowLimit": 10000
     },
     "inputWidgets": {},
     "nuid": "35fbbcc7-3bcd-4e2a-ae57-2c57305a2fb8",
     "showTitle": false,
     "tableResultSettingsMap": {},
     "title": ""
    }
   },
   "outputs": [],
   "source": [
    "%sql\n",
    "select * from cgi_dev.naval.autoloader"
   ]
  }
 ],
 "metadata": {
  "application/vnd.databricks.v1+notebook": {
   "computePreferences": null,
   "dashboards": [],
   "environmentMetadata": {
    "base_environment": "",
    "environment_version": "2"
   },
   "language": "python",
   "notebookMetadata": {
    "mostRecentlyExecutedCommandWithImplicitDF": {
     "commandId": 76290583789505,
     "dataframes": [
      "_sqldf"
     ]
    },
    "pythonIndentUnit": 4
   },
   "notebookName": "(Clone) Autoloader",
   "widgets": {}
  },
  "language_info": {
   "name": "python"
  }
 },
 "nbformat": 4,
 "nbformat_minor": 0
}
