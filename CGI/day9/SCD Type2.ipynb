{
 "cells": [
  {
   "cell_type": "code",
   "execution_count": 0,
   "metadata": {
    "application/vnd.databricks.v1+cell": {
     "cellMetadata": {
      "byteLimit": 2048000,
      "rowLimit": 10000
     },
     "inputWidgets": {},
     "nuid": "4928856e-1975-43de-abdd-4ff18a78d4e1",
     "showTitle": false,
     "tableResultSettingsMap": {},
     "title": ""
    }
   },
   "outputs": [],
   "source": [
    "from pyspark.sql.functions import *"
   ]
  },
  {
   "cell_type": "code",
   "execution_count": 0,
   "metadata": {
    "application/vnd.databricks.v1+cell": {
     "cellMetadata": {
      "byteLimit": 2048000,
      "rowLimit": 10000
     },
     "inputWidgets": {},
     "nuid": "c3081535-723e-452b-bd62-996c2795573e",
     "showTitle": false,
     "tableResultSettingsMap": {},
     "title": ""
    }
   },
   "outputs": [],
   "source": [
    "source_data = [\n",
    " (1, \"Alice\", \"HR\", 5000), # No Change\n",
    " (2, \"Bob\", \"Finance\", 7000), # Updated Salary\n",
    " (3, \"Charlie\", \"IT\", 9000) # New Record\n",
    "]\n",
    "source_df = spark.createDataFrame(source_data, [\"id\", \"name\", \"department\", \"salary\"])"
   ]
  },
  {
   "cell_type": "code",
   "execution_count": 0,
   "metadata": {
    "application/vnd.databricks.v1+cell": {
     "cellMetadata": {
      "byteLimit": 2048000,
      "rowLimit": 10000
     },
     "inputWidgets": {},
     "nuid": "cdba4526-d36e-4de7-b1aa-cee581cfc684",
     "showTitle": false,
     "tableResultSettingsMap": {},
     "title": ""
    }
   },
   "outputs": [],
   "source": [
    "dim_data = [\n",
    " (1, \"Alice\", \"HR\", 5000, \"2024-01-01\", \"9999-12-31\", \"Y\"),\n",
    " (2, \"Bob\", \"Finance\", 6500, \"2024-02-01\", \"9999-12-31\", \"Y\")\n",
    "]\n",
    "dim_df = spark.createDataFrame(dim_data, [\"id\", \"name\", \"department\", \"salary\", \"start_date\", \"end_date\", \"current_flag\"])"
   ]
  },
  {
   "cell_type": "code",
   "execution_count": 0,
   "metadata": {
    "application/vnd.databricks.v1+cell": {
     "cellMetadata": {
      "byteLimit": 2048000,
      "rowLimit": 10000
     },
     "inputWidgets": {},
     "nuid": "57039d4c-a407-4015-b8e4-fb5baa4f7c38",
     "showTitle": false,
     "tableResultSettingsMap": {},
     "title": ""
    }
   },
   "outputs": [],
   "source": [
    "join_df = source_df.alias(\"src\").join(dim_df.alias(\"dim\"), \"id\", \"left\")"
   ]
  },
  {
   "cell_type": "code",
   "execution_count": 0,
   "metadata": {
    "application/vnd.databricks.v1+cell": {
     "cellMetadata": {
      "byteLimit": 2048000,
      "rowLimit": 10000
     },
     "inputWidgets": {},
     "nuid": "080b1c5a-ab74-4155-92d9-16ed200efd05",
     "showTitle": false,
     "tableResultSettingsMap": {},
     "title": ""
    }
   },
   "outputs": [],
   "source": [
    "updates_df = join_df.filter(\n",
    " (col(\"dim.id\").isNotNull()) & \n",
    " ((col(\"src.name\") != col(\"dim.name\")) | \n",
    " (col(\"src.department\") != col(\"dim.department\")) | \n",
    " (col(\"src.salary\") != col(\"dim.salary\")))\n",
    ").select(\n",
    " col(\"src.id\"), col(\"src.name\"), col(\"src.department\"), col(\"src.salary\"),\n",
    " current_date().alias(\"start_date\"),\n",
    " lit(\"9999-12-31\").alias(\"end_date\"),\n",
    " lit(\"Y\").alias(\"current_flag\")\n",
    ")"
   ]
  },
  {
   "cell_type": "code",
   "execution_count": 0,
   "metadata": {
    "application/vnd.databricks.v1+cell": {
     "cellMetadata": {
      "byteLimit": 2048000,
      "rowLimit": 10000
     },
     "inputWidgets": {},
     "nuid": "1eaa0297-6d95-40af-b1d7-e06fe89c53e0",
     "showTitle": false,
     "tableResultSettingsMap": {},
     "title": ""
    }
   },
   "outputs": [],
   "source": [
    "expired_df = updates_df.select(\"id\").join(dim_df, \"id\") \\\n",
    " .withColumn(\"end_date\", current_date()) \\\n",
    " .withColumn(\"current_flag\", lit(\"N\"))"
   ]
  },
  {
   "cell_type": "code",
   "execution_count": 0,
   "metadata": {
    "application/vnd.databricks.v1+cell": {
     "cellMetadata": {
      "byteLimit": 2048000,
      "rowLimit": 10000
     },
     "inputWidgets": {},
     "nuid": "09c969b8-48da-46df-a56d-67644dbdd442",
     "showTitle": false,
     "tableResultSettingsMap": {},
     "title": ""
    }
   },
   "outputs": [],
   "source": [
    "inserts_df = source_df.alias(\"src\").join(dim_df.alias(\"dim\"), \"id\", \"left_anti\") \\\n",
    " .withColumn(\"start_date\", current_date()) \\\n",
    " .withColumn(\"end_date\", lit(\"9999-12-31\")) \\\n",
    " .withColumn(\"current_flag\", lit(\"Y\"))"
   ]
  },
  {
   "cell_type": "code",
   "execution_count": 0,
   "metadata": {
    "application/vnd.databricks.v1+cell": {
     "cellMetadata": {
      "byteLimit": 2048000,
      "rowLimit": 10000
     },
     "inputWidgets": {},
     "nuid": "919d72da-8560-43c7-91b3-e35c8b6f43eb",
     "showTitle": false,
     "tableResultSettingsMap": {},
     "title": ""
    }
   },
   "outputs": [],
   "source": [
    "final_dim_df = (\n",
    " dim_df.filter(col(\"current_flag\") == \"Y\").subtract(expired_df) # Keep Active Records\n",
    " .union(updates_df) # Add Updated Records\n",
    " .union(inserts_df) # Add New Inserts\n",
    ")"
   ]
  },
  {
   "cell_type": "code",
   "execution_count": 0,
   "metadata": {
    "application/vnd.databricks.v1+cell": {
     "cellMetadata": {
      "byteLimit": 2048000,
      "rowLimit": 10000
     },
     "inputWidgets": {},
     "nuid": "1952af22-d5c1-4616-be5c-db38c54cdde9",
     "showTitle": false,
     "tableResultSettingsMap": {},
     "title": ""
    }
   },
   "outputs": [],
   "source": [
    "final_dim_df.display()"
   ]
  },
  {
   "cell_type": "code",
   "execution_count": 0,
   "metadata": {
    "application/vnd.databricks.v1+cell": {
     "cellMetadata": {},
     "inputWidgets": {},
     "nuid": "b20a4ad1-44c4-4fd0-a105-d9ab90fdb4bf",
     "showTitle": false,
     "tableResultSettingsMap": {},
     "title": ""
    }
   },
   "outputs": [],
   "source": []
  }
 ],
 "metadata": {
  "application/vnd.databricks.v1+notebook": {
   "computePreferences": null,
   "dashboards": [],
   "environmentMetadata": {
    "base_environment": "",
    "environment_version": "2"
   },
   "language": "python",
   "notebookMetadata": {
    "pythonIndentUnit": 4
   },
   "notebookName": "SCD Type2",
   "widgets": {}
  },
  "language_info": {
   "name": "python"
  }
 },
 "nbformat": 4,
 "nbformat_minor": 0
}
