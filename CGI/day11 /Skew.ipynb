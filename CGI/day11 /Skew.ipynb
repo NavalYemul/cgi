{
 "cells": [
  {
   "cell_type": "code",
   "execution_count": 0,
   "metadata": {
    "application/vnd.databricks.v1+cell": {
     "cellMetadata": {
      "byteLimit": 2048000,
      "rowLimit": 10000
     },
     "inputWidgets": {},
     "nuid": "137961fe-3fdf-4f4a-952e-f45f4c748d24",
     "showTitle": false,
     "tableResultSettingsMap": {},
     "title": ""
    }
   },
   "outputs": [],
   "source": [
    "import pyspark.sql.functions as F\n",
    "from pyspark.sql.types import StructType, StructField, StringType, IntegerType, FloatType"
   ]
  },
  {
   "cell_type": "code",
   "execution_count": 0,
   "metadata": {
    "application/vnd.databricks.v1+cell": {
     "cellMetadata": {
      "byteLimit": 2048000,
      "rowLimit": 10000
     },
     "inputWidgets": {},
     "nuid": "3dd9d96c-64ad-40f0-a6b3-ba49f1bb0a23",
     "showTitle": false,
     "tableResultSettingsMap": {},
     "title": ""
    }
   },
   "outputs": [],
   "source": [
    "customer_schema  = StructType(\n",
    "    [\n",
    "        StructField('customer_id',FloatType()),\n",
    "        StructField('customer_name',StringType()),\n",
    "        StructField('email',StringType()),\n",
    "        StructField('city',StringType())\n",
    "    ]\n",
    ")\n",
    "product_schema  = StructType(\n",
    "    [\n",
    "        StructField('product_id',FloatType()),\n",
    "        StructField('product_name',StringType()),\n",
    "        StructField('category',StringType()),\n",
    "        StructField('price',FloatType())\n",
    "     ]\n",
    ")\n",
    "sales_schema = StructType(\n",
    "    [\n",
    "        StructField('sale_id',IntegerType()),\n",
    "        StructField('product_id',IntegerType()),\n",
    "        StructField('customer_id',IntegerType()),\n",
    "        StructField('store_id',IntegerType()),\n",
    "        StructField('quantity',IntegerType()),\n",
    "        StructField('sale_date',StringType())\n",
    "    ]\n",
    ")\n",
    "inventory_schema = StructType(\n",
    "    [\n",
    "        StructField('store_id',FloatType()),\n",
    "        StructField('product_id',FloatType()),\n",
    "        StructField('stock_quantity',StringType())\n",
    "    ]\n",
    ")\n",
    "stores_schema = StructType(\n",
    "    [\n",
    "        StructField('store_id',FloatType()),\n",
    "        StructField('store_name',StringType()),\n",
    "        StructField('city',StringType())\n",
    "    ]\n",
    ")"
   ]
  },
  {
   "cell_type": "code",
   "execution_count": 0,
   "metadata": {
    "application/vnd.databricks.v1+cell": {
     "cellMetadata": {
      "byteLimit": 2048000,
      "rowLimit": 10000
     },
     "inputWidgets": {},
     "nuid": "63fc370a-3dc2-4e4b-ae7c-354565316a3a",
     "showTitle": false,
     "tableResultSettingsMap": {},
     "title": ""
    }
   },
   "outputs": [],
   "source": [
    "#input_path = \"/Volumes/cgi_dev/naval/dataset/\"\n",
    "input_s3=\"s3://datamaster/dataset/\"\n",
    "#df_customer = spark.read.csv(f\"{input_path}Customers.csv\",schema = customer_schema,header=True)\n",
    "#df_inventory = spark.read.csv(f\"{input_path}Inventory.csv\",schema = inventory_schema,header=True)\n",
    "#df_product = spark.read.csv(f\"{input_path}Products.csv\",schema = product_schema,header=True)\n",
    "df_sales = spark.read.csv(f\"{input_s3}skewed_sales_data.csv\",schema = sales_schema,header=True)"
   ]
  },
  {
   "cell_type": "code",
   "execution_count": 0,
   "metadata": {
    "application/vnd.databricks.v1+cell": {
     "cellMetadata": {
      "byteLimit": 2048000,
      "rowLimit": 10000
     },
     "inputWidgets": {},
     "nuid": "0ead2243-5665-4a04-95da-6ee59e89d9ce",
     "showTitle": false,
     "tableResultSettingsMap": {},
     "title": ""
    }
   },
   "outputs": [],
   "source": [
    "from pyspark.sql.functions import *"
   ]
  },
  {
   "cell_type": "code",
   "execution_count": 0,
   "metadata": {
    "application/vnd.databricks.v1+cell": {
     "cellMetadata": {
      "byteLimit": 2048000,
      "rowLimit": 10000
     },
     "inputWidgets": {},
     "nuid": "b8c9ee0b-4ff4-4d17-afc6-c4f9d9d33431",
     "showTitle": false,
     "tableResultSettingsMap": {},
     "title": ""
    }
   },
   "outputs": [],
   "source": [
    "from pyspark.sql.functions import count\n",
    "\n",
    "df_sales.groupBy(\"product_id\").agg(count(\"product_id\").alias(\"count\")).orderBy(\"count\", ascending=False).display()"
   ]
  }
 ],
 "metadata": {
  "application/vnd.databricks.v1+notebook": {
   "computePreferences": null,
   "dashboards": [],
   "environmentMetadata": {
    "base_environment": "",
    "environment_version": "2"
   },
   "inputWidgetPreferences": null,
   "language": "python",
   "notebookMetadata": {
    "pythonIndentUnit": 4
   },
   "notebookName": "Skew",
   "widgets": {}
  },
  "language_info": {
   "name": "python"
  }
 },
 "nbformat": 4,
 "nbformat_minor": 0
}
