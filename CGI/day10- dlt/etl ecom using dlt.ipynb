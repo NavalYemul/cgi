{
 "cells": [
  {
   "cell_type": "code",
   "execution_count": 0,
   "metadata": {
    "application/vnd.databricks.v1+cell": {
     "cellMetadata": {},
     "inputWidgets": {},
     "nuid": "85060db7-4504-455f-a261-ee5e06f4a65b",
     "showTitle": true,
     "tableResultSettingsMap": {},
     "title": "ingestion to bronze"
    }
   },
   "outputs": [],
   "source": [
    "CREATE OR REFRESH STREAMING TABLE sales_bronze\n",
    "--COMMENT \"The customers buying finished products, ingested from /databricks-datasets.\"\n",
    "--TBLPROPERTIES (\"myCompanyPipeline.quality\" = \"mapping\")\n",
    "AS SELECT * FROM STREAM read_files(\n",
    "  \"/Volumes/cgi_dev/naval/sales\",\n",
    "   format => \"csv\"\n",
    "   );\n",
    "\n",
    "\n",
    "   CREATE OR REFRESH STREAMING TABLE products_bronze\n",
    "--COMMENT \"The customers buying finished products, ingested from /databricks-datasets.\"\n",
    "--TBLPROPERTIES (\"myCompanyPipeline.quality\" = \"mapping\")\n",
    "AS SELECT * FROM STREAM read_files(\n",
    "  \"/Volumes/cgi_dev/naval/products\",\n",
    "   format => \"csv\"\n",
    "   );\n",
    "\n",
    "\n",
    "   CREATE OR REFRESH STREAMING TABLE customers_bronze\n",
    "--COMMENT \"The customers buying finished products, ingested from /databricks-datasets.\"\n",
    "--TBLPROPERTIES (\"myCompanyPipeline.quality\" = \"mapping\")\n",
    "AS SELECT * FROM STREAM read_files(\n",
    "  \"/Volumes/cgi_dev/naval/customers\",\n",
    "   format => \"csv\"\n",
    "   );"
   ]
  },
  {
   "cell_type": "code",
   "execution_count": 0,
   "metadata": {
    "application/vnd.databricks.v1+cell": {
     "cellMetadata": {},
     "inputWidgets": {},
     "nuid": "26e52d7f-8cf4-4e2c-9c75-3ad546633821",
     "showTitle": false,
     "tableResultSettingsMap": {},
     "title": ""
    }
   },
   "outputs": [],
   "source": [
    "CREATE OR REFRESH STREAMING TABLE sales_cleaned(\n",
    "  CONSTRAINT valid_order_id EXPECT (order_id IS NOT NULL) ON VIOLATION DROP ROW\n",
    ")\n",
    "AS\n",
    "SELECT distinct * except (_rescued_data) from stream(sales_bronze)"
   ]
  },
  {
   "cell_type": "code",
   "execution_count": 0,
   "metadata": {
    "application/vnd.databricks.v1+cell": {
     "cellMetadata": {},
     "inputWidgets": {},
     "nuid": "07a7c2bf-2978-478d-8d0e-d3e45a04e070",
     "showTitle": false,
     "tableResultSettingsMap": {},
     "title": ""
    }
   },
   "outputs": [],
   "source": [
    "CREATE OR REFRESH STREAMING TABLE product_silver;\n",
    "\n",
    "APPLY CHANGES INTO\n",
    "  product_silver\n",
    "FROM\n",
    "  stream(products_bronze)\n",
    "KEYS\n",
    "  (product_id)\n",
    "APPLY AS DELETE WHEN\n",
    "  operation = \"DELETE\"\n",
    "SEQUENCE BY\n",
    "  seqNum\n",
    "COLUMNS * EXCEPT\n",
    "  (operation, seqNum,_rescued_data)\n",
    "STORED AS\n",
    "  SCD TYPE 1;"
   ]
  },
  {
   "cell_type": "code",
   "execution_count": 0,
   "metadata": {
    "application/vnd.databricks.v1+cell": {
     "cellMetadata": {},
     "inputWidgets": {},
     "nuid": "066fe25f-52e3-4870-b852-6de978f43d23",
     "showTitle": false,
     "tableResultSettingsMap": {},
     "title": ""
    }
   },
   "outputs": [],
   "source": [
    "CREATE OR REFRESH STREAMING TABLE customers_silver;\n",
    "\n",
    "APPLY CHANGES INTO\n",
    "  customers_silver\n",
    "FROM\n",
    "  stream(customers_bronze)\n",
    "KEYS\n",
    "  (customer_id)\n",
    "APPLY AS DELETE WHEN\n",
    "  operation = \"DELETE\"\n",
    "SEQUENCE BY\n",
    "  sequenceNum\n",
    "COLUMNS * EXCEPT\n",
    "  (operation, sequenceNum,_rescued_data)\n",
    "STORED AS\n",
    "  SCD TYPE 2;"
   ]
  }
 ],
 "metadata": {
  "application/vnd.databricks.v1+notebook": {
   "computePreferences": null,
   "dashboards": [],
   "environmentMetadata": {
    "base_environment": "",
    "environment_version": "2"
   },
   "language": "sql",
   "notebookMetadata": {
    "pythonIndentUnit": 4
   },
   "notebookName": "etl ecom using dlt",
   "widgets": {}
  },
  "language_info": {
   "name": "sql"
  }
 },
 "nbformat": 4,
 "nbformat_minor": 0
}
