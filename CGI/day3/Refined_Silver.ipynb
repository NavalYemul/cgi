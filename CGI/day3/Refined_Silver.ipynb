{
 "cells": [
  {
   "cell_type": "code",
   "execution_count": 0,
   "metadata": {
    "application/vnd.databricks.v1+cell": {
     "cellMetadata": {
      "byteLimit": 2048000,
      "rowLimit": 10000
     },
     "inputWidgets": {},
     "nuid": "05aeaf8a-1465-4a7a-a105-d53773256f71",
     "showTitle": true,
     "tableResultSettingsMap": {},
     "title": "sales silver"
    }
   },
   "outputs": [],
   "source": [
    "df=spark.read.table(\"cgi_dev.naval_bronze.sales\")\n",
    "df1=df.dropDuplicates().dropna().drop(\"ingestion_date\")\n",
    "df1.write.mode(\"overwrite\").saveAsTable(\"cgi_dev.naval_silver.sales\")"
   ]
  },
  {
   "cell_type": "code",
   "execution_count": 0,
   "metadata": {
    "application/vnd.databricks.v1+cell": {
     "cellMetadata": {
      "byteLimit": 2048000,
      "rowLimit": 10000
     },
     "inputWidgets": {},
     "nuid": "373ade14-df6b-40ea-816e-f747ece91a95",
     "showTitle": true,
     "tableResultSettingsMap": {},
     "title": "customer_silver"
    }
   },
   "outputs": [],
   "source": [
    "df=spark.table(\"cgi_dev.naval_bronze.customers\")\n",
    "df.select(\"customer_id\", \"customer_name\", \"customer_email\", \"customer_city\", \"customer_state\").write.mode(\"overwrite\").saveAsTable(\"cgi_dev.naval_silver.customers\")"
   ]
  },
  {
   "cell_type": "code",
   "execution_count": 0,
   "metadata": {
    "application/vnd.databricks.v1+cell": {
     "cellMetadata": {
      "byteLimit": 2048000,
      "rowLimit": 10000
     },
     "inputWidgets": {},
     "nuid": "aa8bf088-88db-43e0-9c9b-e086031ab843",
     "showTitle": true,
     "tableResultSettingsMap": {},
     "title": "product_silver"
    }
   },
   "outputs": [],
   "source": [
    "df=spark.table(\"cgi_dev.naval_bronze.products\")\n",
    "df.select(\"product_id\", \"product_name\", \"product_category\", \"product_price\").write.mode(\"overwrite\").saveAsTable(\"cgi_dev.naval_silver.products\")"
   ]
  }
 ],
 "metadata": {
  "application/vnd.databricks.v1+notebook": {
   "computePreferences": null,
   "dashboards": [],
   "environmentMetadata": {
    "base_environment": "",
    "environment_version": "2"
   },
   "language": "python",
   "notebookMetadata": {
    "mostRecentlyExecutedCommandWithImplicitDF": {
     "commandId": 2775447339680425,
     "dataframes": [
      "_sqldf"
     ]
    },
    "pythonIndentUnit": 4
   },
   "notebookName": "Refined_Silver",
   "widgets": {}
  },
  "language_info": {
   "name": "python"
  }
 },
 "nbformat": 4,
 "nbformat_minor": 0
}
